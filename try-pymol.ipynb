{
 "cells": [
  {
   "cell_type": "code",
   "execution_count": null,
   "id": "b4e00645",
   "metadata": {},
   "outputs": [],
   "source": [
    "from datasets.conformer_matching import get_torsion_angles\n",
    "from rdkit import Chem\n",
    "from rdkit.Chem.rdchem import BondType as BT\n",
    "from rdkit.Chem import AllChem, GetPeriodicTable, RemoveHs\n",
    "from datasets.process_mols import generate_conformer"
   ]
  },
  {
   "cell_type": "code",
   "execution_count": null,
   "id": "c8b96a64",
   "metadata": {},
   "outputs": [],
   "source": [
    "mol = Chem.MolFromSmiles('COCC1=CC=CC=C1')\n",
    "display(mol)\n",
    "get_torsion_angles(mol)\n",
    "generate_conformer(mol)\n",
    "print(mol)\n",
    "#pos = mol.GetConformer().GetPositions()\n",
    "display(mol)\n",
    "\n",
    "\n",
    "generate_conformer(mol)\n",
    "display(mol)\n"
   ]
  },
  {
   "cell_type": "code",
   "execution_count": 8,
   "id": "b29dc7bc",
   "metadata": {
    "scrolled": false
   },
   "outputs": [
    {
     "name": "stdout",
     "output_type": "stream",
     "text": [
      "['A', 'B']\n",
      "[('A', '2', 'PRO'), ('A', '2', 'PRO'), ('A', '2', 'PRO'), ('A', '2', 'PRO'), ('A', '2', 'PRO'), ('A', '2', 'PRO'), ('A', '2', 'PRO'), ('A', '2', 'PRO'), ('A', '2', 'PRO'), ('A', '2', 'PRO'), ('A', '2', 'PRO'), ('A', '2', 'PRO'), ('A', '2', 'PRO'), ('A', '2', 'PRO'), ('A', '3', 'TYR'), ('A', '3', 'TYR'), ('A', '3', 'TYR'), ('A', '3', 'TYR'), ('A', '3', 'TYR'), ('A', '3', 'TYR'), ('A', '3', 'TYR'), ('A', '3', 'TYR'), ('A', '3', 'TYR'), ('A', '3', 'TYR'), ('A', '3', 'TYR'), ('A', '3', 'TYR'), ('A', '3', 'TYR'), ('A', '3', 'TYR'), ('A', '3', 'TYR'), ('A', '3', 'TYR')]\n",
      "[[29.189  2.02  36.613]\n",
      " [28.011  2.405 35.85 ]\n",
      " [26.711  1.995 36.517]\n",
      " [26.629  0.949 37.161]\n",
      " [28.055  1.772 34.459]\n",
      " [29.318  2.059 33.684]\n",
      " [29.678  3.366 33.355]\n",
      " [30.149  1.023 33.267]\n",
      " [30.835  3.633 32.629]\n",
      " [31.308  1.279 32.539]\n",
      " [31.645  2.584 32.226]\n",
      " [32.803  2.828 31.528]]\n",
      "-54.243953704833984\n",
      "PyMOL>set_dihedral chain A and resi 3 and name N, chain A and resi 3 and name CA, chain A and resi 3 and  name CB, chain A and resi 3 and name CG, -83\n",
      " SetDihedral: adjusted to -83.000\n",
      "[[29.189      2.02      36.613    ]\n",
      " [28.011      2.405     35.85     ]\n",
      " [26.711      1.995     36.517    ]\n",
      " [26.629      0.949     37.161    ]\n",
      " [28.055      1.772     34.459    ]\n",
      " [28.88447    2.533891  33.454178 ]\n",
      " [28.561657   3.8445373 33.10192  ]\n",
      " [29.986332   1.9411098 32.84405  ]\n",
      " [29.316572   4.545187  32.165863 ]\n",
      " [30.74744    2.6326356 31.905273 ]\n",
      " [30.408476   3.9324188 31.573265 ]\n",
      " [31.179855   4.6145434 30.663656 ]]\n"
     ]
    }
   ],
   "source": [
    "import glob, os\n",
    "from pymol import cmd\n",
    "pdbobject = '10gs.pdb'\n",
    "cmd.delete('all')\n",
    "cmd.load(pdbobject)\n",
    "chains = cmd.get_chains()\n",
    "n_chains = len(chains)\n",
    "print(chains)\n",
    "from pymol import stored\n",
    "stored.r = []\n",
    "stored.angle = 0\n",
    "# name: atomname, resn: name\n",
    "cmd.iterate('All', 'stored.r.append((chain,resi,resn))')\n",
    "id2name = {'{}_{}'.format(chain, resi):resn for (chain,resi,resn) in stored.r} # dict\n",
    "print(stored.r[:30])\n",
    "\n",
    "cmd.select('chain {} and resid {} and not h.'.format('A', 3))\n",
    "xyz = cmd.get_coords('sele', 1)\n",
    "print(xyz)\n",
    "sidec = 'N-CA-CB-CG'\n",
    "a1,a2,a3,a4 = sidec.split('-')\n",
    "chainid = 'A'\n",
    "resid='3'\n",
    "oriangle = cmd.get_dihedral('chain {} and resi {} and name {}'.format(chainid, resid, a1),'chain {} and resi {} and name {}'.format(chainid, resid, a2), 'chain {} and resi {} and  name {}'.format(chainid, resid, a3), 'chain {} and resi {} and name {}'.format(chainid, resid, a4))\n",
    "print(oriangle)\n",
    "angle = -83\n",
    "cmd.do('set_dihedral chain {} and resi {} and name {}, chain {} and resi {} and name {}, chain {} and resi {} and  name {}, chain {} and resi {} and name {}, {}'.format(chainid, resid, a1,chainid, resid, a2, chainid, resid, a3, chainid, resid, a4, angle))\n",
    "\n",
    "cmd.select('chain {} and resid {} and not h.'.format('A', 3))\n",
    "xyz = cmd.get_coords('sele', 1)\n",
    "print(xyz)\n",
    "cmd.save('test.pdb', selection='10gs', state=-1, format='', ref='',ref_state=-1, quiet=1, partial=0)\n"
   ]
  },
  {
   "cell_type": "code",
   "execution_count": null,
   "id": "e0510b4d",
   "metadata": {},
   "outputs": [],
   "source": []
  }
 ],
 "metadata": {
  "kernelspec": {
   "display_name": "Python 3 (ipykernel)",
   "language": "python",
   "name": "python3"
  },
  "language_info": {
   "codemirror_mode": {
    "name": "ipython",
    "version": 3
   },
   "file_extension": ".py",
   "mimetype": "text/x-python",
   "name": "python",
   "nbconvert_exporter": "python",
   "pygments_lexer": "ipython3",
   "version": "3.9.13"
  }
 },
 "nbformat": 4,
 "nbformat_minor": 5
}
